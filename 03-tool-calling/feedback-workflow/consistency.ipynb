{
 "cells": [
  {
   "cell_type": "code",
   "outputs": [],
   "source": [
    "import asyncio\n",
    "from grader import TIERS, grade_tier\n",
    "from pathlib import Path\n",
    "from agents import Agent\n",
    "from main import setup_client\n",
    "\n",
    "async def run_grader(settings, tier: TIERS, report: Path):\n",
    "    client = setup_client()\n",
    "\n",
    "    agent = Agent(settings)\n",
    "\n",
    "    response = await grade_tier(\n",
    "        client,\n",
    "        agent,\n",
    "        tier_name=tier,\n",
    "        report_contents=report.read_text(),\n",
    "        rubric_contents=Path(\"rubrics/scc-rubric.md\").read_text()\n",
    "    )\n",
    "    return response \n"
   ],
   "metadata": {
    "collapsed": false,
    "ExecuteTime": {
     "end_time": "2025-10-05T05:32:34.493535800Z",
     "start_time": "2025-10-05T05:32:31.600127400Z"
    }
   },
   "id": "4cd9a4c19552a766",
   "execution_count": 1
  },
  {
   "cell_type": "code",
   "outputs": [],
   "source": [
    "\n",
    "async def run_consistency_test(settings, tier: TIERS, report, num_iterations):\n",
    "    all_responses = []\n",
    "    \n",
    "    for i in range(num_iterations):\n",
    "        response = await run_grader(settings, tier, report)\n",
    "        \n",
    "        response_summary = [True if ('[X]' in line) else False for line in response.splitlines()]\n",
    "        all_responses.append(response_summary)\n",
    "        \n",
    "        print(response)\n",
    "    return all_responses\n"
   ],
   "metadata": {
    "collapsed": false,
    "ExecuteTime": {
     "end_time": "2025-10-05T05:33:21.626357900Z",
     "start_time": "2025-10-05T05:33:21.512643Z"
    }
   },
   "id": "1a34a2d1fcc5a738",
   "execution_count": 2
  },
  {
   "cell_type": "code",
   "outputs": [],
   "source": [
    "settings = {\n",
    "    \"prompt\" : Path(\"rubrics/tier-grader.md\").read_text(),\n",
    "    \"model\" : \"gpt-5-mini\",\n",
    "    \"reasoning\" : \"low\",\n",
    "}"
   ],
   "metadata": {
    "collapsed": false,
    "ExecuteTime": {
     "end_time": "2025-10-05T05:33:25.245443100Z",
     "start_time": "2025-10-05T05:33:25.186906200Z"
    }
   },
   "id": "c88b7cb62152d8a5",
   "execution_count": 3
  },
  {
   "cell_type": "code",
   "outputs": [],
   "source": [
    "import pandas as pd"
   ],
   "metadata": {
    "collapsed": false
   },
   "id": "77ef0366cbe8638b"
  },
  {
   "cell_type": "code",
   "outputs": [
    {
     "name": "stdout",
     "output_type": "stream",
     "text": [
      "- [X] Design experience\n",
      "    - [X] State your discussion partner\n",
      "    - [X] Provide a brief summary of your conversation\n",
      "- [ ] Implement a pre-order/post-order traversal in `scc.py` \n",
      "- [ ] Pass baseline tests\n",
      "- [ ] Complete an analysis of Pre/Post Order Traversal\n",
      "    - [ ] Theoretical time\n",
      "        - [ ] Include annotated code in report\n",
      "        - [ ] Annotate all non-trivial parts of your code\n",
      "        - [X] Provide explanation of time complexity\n",
      "            - [ ] State all assumptions clearly\n",
      "        - [ ] Bold final time complexity\n",
      "    - [ ] Theoretical space\n",
      "        - [ ] Include annotated code in report\n",
      "        - [ ] Annotate all non-trivial parts of your code\n",
      "        - [X] Provide explanation of time complexity\n",
      "            - [ ] State all assumptions clearly\n",
      "        - [ ] Bold final time complexity\n",
      "    - [X] Empirical data\n",
      "        - [X] Fill in empirical runtimes table\n",
      "    - [X] Comparison of Theoretical and Empirical Results\n",
      "        - [X] Provide plot comparing theoretical time complexity to observed runtimes\n",
      "        - [X] If theoretical and empirical results match:\n",
      "            - [X] Simply state this\n",
      "        - [ ] If they do not match:\n",
      "            - [ ] Provide a plot showing a theoretical time complexity that more closely follows the observed runtimes\n",
      "            - [ ] Provide a brief discussion explaining what sections of your code might account for the difference\n",
      "- [X] Design experience\n",
      "    - [X] State your discussion partner\n",
      "    - [X] Provide a brief summary of your conversation\n",
      "- [ ] Implement a pre-order/post-order traversal in `scc.py` \n",
      "- [ ] Pass baseline tests\n",
      "- [X] Complete an analysis of Pre/Post Order Traversal\n",
      "    - [X] Theoretical time\n",
      "        - [X] Include annotated code in report\n",
      "        - [ ] Annotate all non-trivial parts of your code\n",
      "        - [X] Provide explanation of time complexity\n",
      "            - [X] State all assumptions clearly\n",
      "        - [ ] Bold final time complexity\n",
      "    - [X] Theoretical space\n",
      "        - [X] Include annotated code in report\n",
      "        - [ ] Annotate all non-trivial parts of your code\n",
      "        - [X] Provide explanation of time complexity\n",
      "            - [X] State all assumptions clearly\n",
      "        - [ ] Bold final time complexity\n",
      "    - [X] Empirical data\n",
      "        - [X] Fill in empirical runtimes table\n",
      "    - [X] Comparison of Theoretical and Empirical Results\n",
      "        - [X] Provide plot comparing theoretical time complexity to observed runtimes\n",
      "        - [X] If theoretical and empirical results match:\n",
      "            - [X] Simply state this\n",
      "        - [ ] If they do not match:\n",
      "            - [ ] Provide a plot showing a theoretical time complexity that more closely follows the observed runtimes\n",
      "            - [ ] Provide a brief discussion explaining what sections of your code might account for the difference\n",
      "- [X] Design experience\n",
      "    - [X] State your discussion partner\n",
      "    - [X] Provide a brief summary of your conversation\n",
      "- [ ] Implement a pre-order/post-order traversal in `scc.py` \n",
      "- [ ] Pass baseline tests\n",
      "- [ ] Complete an analysis of Pre/Post Order Traversal\n",
      "    - [X] Theoretical time\n",
      "        - [X] Include annotated code in report\n",
      "        - [X] Annotate all non-trivial parts of your code\n",
      "        - [X] Provide explanation of time complexity\n",
      "            - [X] State all assumptions clearly\n",
      "        - [ ] Bold final time complexity\n",
      "    - [X] Theoretical space\n",
      "        - [X] Include annotated code in report\n",
      "        - [X] Annotate all non-trivial parts of your code\n",
      "        - [X] Provide explanation of time complexity\n",
      "            - [X] State all assumptions clearly\n",
      "        - [ ] Bold final time complexity\n",
      "    - [X] Empirical data\n",
      "        - [X] Fill in empirical runtimes table\n",
      "    - [X] Comparison of Theoretical and Empirical Results\n",
      "        - [X] Provide plot comparing theoretical time complexity to observed runtimes\n",
      "        - [X] If theoretical and empirical results match:\n",
      "            - [X] Simply state this\n",
      "[[True, True, True, False, False, False, False, False, False, True, False, False, False, False, False, True, False, False, True, True, True, True, True, True, False, False, False], [True, True, True, False, False, True, True, True, False, True, True, False, True, True, False, True, True, False, True, True, True, True, True, True, False, False, False], [True, True, True, False, False, False, True, True, True, True, True, False, True, True, True, True, True, False, True, True, True, True, True, True]]\n"
     ]
    },
    {
     "data": {
      "text/plain": "     0     1     2      3      4      5      6      7      8     9   ...  \\\n0  True  True  True  False  False  False  False  False  False  True  ...   \n1  True  True  True  False  False   True   True   True  False  True  ...   \n2  True  True  True  False  False  False   True   True   True  True  ...   \n\n      17    18    19    20    21    22    23     24     25     26  \n0  False  True  True  True  True  True  True  False  False  False  \n1  False  True  True  True  True  True  True  False  False  False  \n2  False  True  True  True  True  True  True   None   None   None  \n\n[3 rows x 27 columns]",
      "text/html": "<div>\n<style scoped>\n    .dataframe tbody tr th:only-of-type {\n        vertical-align: middle;\n    }\n\n    .dataframe tbody tr th {\n        vertical-align: top;\n    }\n\n    .dataframe thead th {\n        text-align: right;\n    }\n</style>\n<table border=\"1\" class=\"dataframe\">\n  <thead>\n    <tr style=\"text-align: right;\">\n      <th></th>\n      <th>0</th>\n      <th>1</th>\n      <th>2</th>\n      <th>3</th>\n      <th>4</th>\n      <th>5</th>\n      <th>6</th>\n      <th>7</th>\n      <th>8</th>\n      <th>9</th>\n      <th>...</th>\n      <th>17</th>\n      <th>18</th>\n      <th>19</th>\n      <th>20</th>\n      <th>21</th>\n      <th>22</th>\n      <th>23</th>\n      <th>24</th>\n      <th>25</th>\n      <th>26</th>\n    </tr>\n  </thead>\n  <tbody>\n    <tr>\n      <th>0</th>\n      <td>True</td>\n      <td>True</td>\n      <td>True</td>\n      <td>False</td>\n      <td>False</td>\n      <td>False</td>\n      <td>False</td>\n      <td>False</td>\n      <td>False</td>\n      <td>True</td>\n      <td>...</td>\n      <td>False</td>\n      <td>True</td>\n      <td>True</td>\n      <td>True</td>\n      <td>True</td>\n      <td>True</td>\n      <td>True</td>\n      <td>False</td>\n      <td>False</td>\n      <td>False</td>\n    </tr>\n    <tr>\n      <th>1</th>\n      <td>True</td>\n      <td>True</td>\n      <td>True</td>\n      <td>False</td>\n      <td>False</td>\n      <td>True</td>\n      <td>True</td>\n      <td>True</td>\n      <td>False</td>\n      <td>True</td>\n      <td>...</td>\n      <td>False</td>\n      <td>True</td>\n      <td>True</td>\n      <td>True</td>\n      <td>True</td>\n      <td>True</td>\n      <td>True</td>\n      <td>False</td>\n      <td>False</td>\n      <td>False</td>\n    </tr>\n    <tr>\n      <th>2</th>\n      <td>True</td>\n      <td>True</td>\n      <td>True</td>\n      <td>False</td>\n      <td>False</td>\n      <td>False</td>\n      <td>True</td>\n      <td>True</td>\n      <td>True</td>\n      <td>True</td>\n      <td>...</td>\n      <td>False</td>\n      <td>True</td>\n      <td>True</td>\n      <td>True</td>\n      <td>True</td>\n      <td>True</td>\n      <td>True</td>\n      <td>None</td>\n      <td>None</td>\n      <td>None</td>\n    </tr>\n  </tbody>\n</table>\n<p>3 rows × 27 columns</p>\n</div>"
     },
     "execution_count": 18,
     "metadata": {},
     "output_type": "execute_result"
    }
   ],
   "source": [
    "results_baseline = await run_consistency_test(settings, TIERS.BASELINE, Path(\"reports/scc-student-report.md\"), 3)\n",
    "\n",
    "print(results_baseline)\n",
    "\n",
    "df_baseline = pd.DataFrame(results_baseline)\n",
    "df_baseline\n"
   ],
   "metadata": {
    "collapsed": false,
    "ExecuteTime": {
     "end_time": "2025-10-05T05:58:58.224287800Z",
     "start_time": "2025-10-05T05:58:11.751454700Z"
    }
   },
   "id": "14597b042d2d0fa0",
   "execution_count": 18
  },
  {
   "cell_type": "code",
   "outputs": [
    {
     "name": "stdout",
     "output_type": "stream",
     "text": [
      "- [X] Design experience\n",
      "    - [X] State your discussion partner\n",
      "    - [X] Provide a brief summary of your conversation\n",
      "- [X] Implement the Strongly Connected Components (SCC) algorithm \n",
      "- [X] Pass all core tests\n",
      "- [ ] Complete an analysis of SCC\n",
      "    - [ ] Theoretical time\n",
      "        - [ ] Include annotated code in report\n",
      "        - [ ] Annotate all non-trivial parts of your code\n",
      "        - [X] Provide explanation of time complexity\n",
      "            - [X] State all assumptions clearly\n",
      "        - [ ] Bold final time complexity\n",
      "    - [ ] Theoretical space\n",
      "        - [ ] Include annotated code in report\n",
      "        - [ ] Annotate all non-trivial parts of your code\n",
      "        - [X] Provide explanation of time complexity\n",
      "            - [X] State all assumptions clearly\n",
      "        - [ ] Bold final time complexity\n",
      "    - [X] Empirical data\n",
      "        - [X] Fill in empirical runtimes table\n",
      "    - [X] Comparison of Theoretical and Empirical Results\n",
      "        - [X] Provide plot comparing theoretical time complexity to observed runtimes\n",
      "        - [X] If theoretical and empirical results match:\n",
      "            - [X] Simply state this\n",
      "        - [ ] If they do not match:\n",
      "            - [ ] Provide a plot showing a theoretical time complexity that more closely follows the observed runtimes\n",
      "            - [ ] Provide a brief discussion explaining what sections of your code might account for the difference\n",
      "- [X] Design experience\n",
      "    - [X] State your discussion partner\n",
      "    - [X] Provide a brief summary of your conversation\n",
      "- [ ] Implement the Strongly Connected Components (SCC) algorithm \n",
      "- [ ] Pass all core tests\n",
      "- [ ] Complete an analysis of SCC\n",
      "    - [ ] Theoretical time\n",
      "        - [ ] Include annotated code in report\n",
      "        - [ ] Annotate all non-trivial parts of your code\n",
      "        - [X] Provide explanation of time complexity\n",
      "            - [X] State all assumptions clearly\n",
      "        - [ ] Bold final time complexity\n",
      "    - [ ] Theoretical space\n",
      "        - [ ] Include annotated code in report\n",
      "        - [ ] Annotate all non-trivial parts of your code\n",
      "        - [X] Provide explanation of time complexity\n",
      "            - [X] State all assumptions clearly\n",
      "        - [ ] Bold final time complexity\n",
      "    - [X] Empirical data\n",
      "        - [X] Fill in empirical runtimes table\n",
      "    - [X] Comparison of Theoretical and Empirical Results\n",
      "        - [X] Provide plot comparing theoretical time complexity to observed runtimes\n",
      "        - [X] If theoretical and empirical results match:\n",
      "            - [X] Simply state this\n",
      "        - [ ] If they do not match:\n",
      "            - [ ] Provide a plot showing a theoretical time complexity that more closely follows the observed runtimes\n",
      "            - [ ] Provide a brief discussion explaining what sections of your code might account for the difference.\n"
     ]
    }
   ],
   "source": [
    "results_core = await run_consistency_test(settings, TIERS.CORE, Path(\"reports/scc-student-report.md\"), 3)\n",
    "\n",
    "print(results_core)\n",
    "\n",
    "df_core = pd.DataFrame(results_core)\n",
    "df_core"
   ],
   "metadata": {
    "collapsed": false,
    "is_executing": true,
    "ExecuteTime": {
     "start_time": "2025-10-05T06:02:38.561905200Z"
    }
   },
   "id": "baf4e19f444ad29e",
   "execution_count": null
  },
  {
   "cell_type": "code",
   "outputs": [
    {
     "name": "stdout",
     "output_type": "stream",
     "text": [
      "- [X] Design experience\n",
      "    - [X] State your discussion partner\n",
      "    - [X] Provide a brief summary of your conversation\n",
      "- [ ] Write code to identify all *tree*, *forward*, *back*, and *cross* edges in a graph\n",
      "- [ ] Pass all stretch 1 tests\n",
      "- [ ] Comment on why identifying articulation points in a graph is useful.\n",
      "    - [ ] In your own words, explain what an articulation point is\n",
      "    - [X] Provide at least two real-world examples of articulation points\n",
      "        - [ ] Bold the name of your examples\n",
      "        - [ ] Explain what the nodes and edges represent in your examples\n",
      "        - [X] Explain what the articulation point represents in your examples\n",
      "        - [X] Discuss why it would be useful to know the articulation point in your given examples\n",
      "- [X] Design experience\n",
      "    - [X] State your discussion partner\n",
      "    - [X] Provide a brief summary of your conversation\n",
      "- [ ] Write code to identify all *tree*, *forward*, *back*, and *cross* edges in a graph\n",
      "- [ ] Pass all stretch 1 tests\n",
      "- [X] Comment on why identifying articulation points in a graph is useful.\n",
      "    - [ ] In your own words, explain what an articulation point is\n",
      "    - [ ] Provide at least two real-world examples of articulation points\n",
      "        - [ ] Bold the name of your examples\n",
      "        - [ ] Explain what the nodes and edges represent in your examples\n",
      "        - [ ] Explain what the articulation point represents in your examples\n",
      "        - [ ] Discuss why it would be useful to know the articulation point in your given examples\n",
      "- [X] Design experience\n",
      "    - [X] State your discussion partner\n",
      "    - [X] Provide a brief summary of your conversation\n",
      "- [ ] Write code to identify all *tree*, *forward*, *back*, and *cross* edges in a graph\n",
      "- [ ] Pass all stretch 1 tests\n",
      "- [ ] Comment on why identifying articulation points in a graph is useful.\n",
      "    - [ ] In your own words, explain what an articulation point is\n",
      "    - [X] Provide at least two real-world examples of articulation points\n",
      "        - [ ] Bold the name of your examples\n",
      "        - [X] Explain what the nodes and edges represent in your examples\n",
      "        - [X] Explain what the articulation point represents in your examples\n",
      "        - [X] Discuss why it would be useful to know the articulation point in your given examples\n",
      "[[True, True, True, False, False, False, False, True, False, False, True, True], [True, True, True, False, False, True, False, False, False, False, False, False], [True, True, True, False, False, False, False, True, False, True, True, True]]\n"
     ]
    },
    {
     "data": {
      "text/plain": "     0     1     2      3      4      5      6      7      8      9      10  \\\n0  True  True  True  False  False  False  False   True  False  False   True   \n1  True  True  True  False  False   True  False  False  False  False  False   \n2  True  True  True  False  False  False  False   True  False   True   True   \n\n      11  \n0   True  \n1  False  \n2   True  ",
      "text/html": "<div>\n<style scoped>\n    .dataframe tbody tr th:only-of-type {\n        vertical-align: middle;\n    }\n\n    .dataframe tbody tr th {\n        vertical-align: top;\n    }\n\n    .dataframe thead th {\n        text-align: right;\n    }\n</style>\n<table border=\"1\" class=\"dataframe\">\n  <thead>\n    <tr style=\"text-align: right;\">\n      <th></th>\n      <th>0</th>\n      <th>1</th>\n      <th>2</th>\n      <th>3</th>\n      <th>4</th>\n      <th>5</th>\n      <th>6</th>\n      <th>7</th>\n      <th>8</th>\n      <th>9</th>\n      <th>10</th>\n      <th>11</th>\n    </tr>\n  </thead>\n  <tbody>\n    <tr>\n      <th>0</th>\n      <td>True</td>\n      <td>True</td>\n      <td>True</td>\n      <td>False</td>\n      <td>False</td>\n      <td>False</td>\n      <td>False</td>\n      <td>True</td>\n      <td>False</td>\n      <td>False</td>\n      <td>True</td>\n      <td>True</td>\n    </tr>\n    <tr>\n      <th>1</th>\n      <td>True</td>\n      <td>True</td>\n      <td>True</td>\n      <td>False</td>\n      <td>False</td>\n      <td>True</td>\n      <td>False</td>\n      <td>False</td>\n      <td>False</td>\n      <td>False</td>\n      <td>False</td>\n      <td>False</td>\n    </tr>\n    <tr>\n      <th>2</th>\n      <td>True</td>\n      <td>True</td>\n      <td>True</td>\n      <td>False</td>\n      <td>False</td>\n      <td>False</td>\n      <td>False</td>\n      <td>True</td>\n      <td>False</td>\n      <td>True</td>\n      <td>True</td>\n      <td>True</td>\n    </tr>\n  </tbody>\n</table>\n</div>"
     },
     "execution_count": 17,
     "metadata": {},
     "output_type": "execute_result"
    }
   ],
   "source": [
    "results_stretch_1 = await run_consistency_test(settings, TIERS.STRETCH_1, Path(\"reports/scc-student-report.md\"), 3)\n",
    "\n",
    "print(results_stretch_1)\n",
    "\n",
    "df_stretch_1 = pd.DataFrame(results_stretch_1)\n",
    "df_stretch_1"
   ],
   "metadata": {
    "collapsed": false,
    "ExecuteTime": {
     "end_time": "2025-10-05T05:58:11.752916700Z",
     "start_time": "2025-10-05T05:57:29.200178400Z"
    }
   },
   "id": "8f73e445e2bf22ab",
   "execution_count": 17
  },
  {
   "cell_type": "code",
   "outputs": [
    {
     "name": "stdout",
     "output_type": "stream",
     "text": [
      "- [X] Design experience[ ] State your discussion partner[ ] Provide a brief summary of your conversation\n",
      "- [X] State your discussion partner\n",
      "- [X] Provide a brief summary of your conversation\n",
      "- [X] Pick a real-world dataset[ ] Your dataset should usedirectededges (this is important!)\n",
      "- [X] Your dataset should usedirectededges (this is important!)\n",
      "- [X] Describe the dataset in your report[ ] How many nodes/edges?[ ] What do the nodes/edges mean? (users/companies/articles/etc; follows/trades/citations/etc.)\n",
      "- [X] How many nodes/edges?\n",
      "- [X] What do the nodes/edges mean? (users/companies/articles/etc; follows/trades/citations/etc.)\n",
      "- [X] Adapt the data for your algorithm\n",
      "- [X] Run your SCC algorithm on the graph\n",
      "- [X] Provide a discussion on your findings\n",
      "- [X] Design experience[ ] State your discussion partner[ ] Provide a brief summary of your conversation\n",
      "- [X] State your discussion partner\n",
      "- [X] Provide a brief summary of your conversation\n",
      "- [X] Pick a real-world dataset[ ] Your dataset should usedirectededges (this is important!)\n",
      "- [X] Your dataset should usedirectededges (this is important!)\n",
      "- [X] Describe the dataset in your report[ ] How many nodes/edges?[ ] What do the nodes/edges mean? (users/companies/articles/etc; follows/trades/citations/etc.)\n",
      "- [X] How many nodes/edges?\n",
      "- [X] What do the nodes/edges mean? (users/companies/articles/etc; follows/trades/citations/etc.)\n",
      "- [X] Adapt the data for your algorithm\n",
      "- [X] Run your SCC algorithm on the graph\n",
      "- [X] Provide a discussion on your findings\n",
      "- [X] Design experience[ ] State your discussion partner[ ] Provide a brief summary of your conversation\n",
      "- [X] State your discussion partner\n",
      "- [X] Provide a brief summary of your conversation\n",
      "- [X] Pick a real-world dataset[ ] Your dataset should usedirectededges (this is important!)\n",
      "- [X] Your dataset should usedirectededges (this is important!)\n",
      "- [X] Describe the dataset in your report[ ] How many nodes/edges?[ ] What do the nodes/edges mean? (users/companies/articles/etc; follows/trades/citations/etc.)\n",
      "- [X] How many nodes/edges?\n",
      "- [X] What do the nodes/edges mean? (users/companies/articles/etc; follows/trades/citations/etc.)\n",
      "- [X] Adapt the data for your algorithm\n",
      "- [X] Run your SCC algorithm on the graph\n",
      "- [X] Provide a discussion on your findings\n",
      "[[True, True, True, True, True, True, True, True, True, True, True], [True, True, True, True, True, True, True, True, True, True, True], [True, True, True, True, True, True, True, True, True, True, True]]\n"
     ]
    },
    {
     "data": {
      "text/plain": "     0     1     2     3     4     5     6     7     8     9     10\n0  True  True  True  True  True  True  True  True  True  True  True\n1  True  True  True  True  True  True  True  True  True  True  True\n2  True  True  True  True  True  True  True  True  True  True  True",
      "text/html": "<div>\n<style scoped>\n    .dataframe tbody tr th:only-of-type {\n        vertical-align: middle;\n    }\n\n    .dataframe tbody tr th {\n        vertical-align: top;\n    }\n\n    .dataframe thead th {\n        text-align: right;\n    }\n</style>\n<table border=\"1\" class=\"dataframe\">\n  <thead>\n    <tr style=\"text-align: right;\">\n      <th></th>\n      <th>0</th>\n      <th>1</th>\n      <th>2</th>\n      <th>3</th>\n      <th>4</th>\n      <th>5</th>\n      <th>6</th>\n      <th>7</th>\n      <th>8</th>\n      <th>9</th>\n      <th>10</th>\n    </tr>\n  </thead>\n  <tbody>\n    <tr>\n      <th>0</th>\n      <td>True</td>\n      <td>True</td>\n      <td>True</td>\n      <td>True</td>\n      <td>True</td>\n      <td>True</td>\n      <td>True</td>\n      <td>True</td>\n      <td>True</td>\n      <td>True</td>\n      <td>True</td>\n    </tr>\n    <tr>\n      <th>1</th>\n      <td>True</td>\n      <td>True</td>\n      <td>True</td>\n      <td>True</td>\n      <td>True</td>\n      <td>True</td>\n      <td>True</td>\n      <td>True</td>\n      <td>True</td>\n      <td>True</td>\n      <td>True</td>\n    </tr>\n    <tr>\n      <th>2</th>\n      <td>True</td>\n      <td>True</td>\n      <td>True</td>\n      <td>True</td>\n      <td>True</td>\n      <td>True</td>\n      <td>True</td>\n      <td>True</td>\n      <td>True</td>\n      <td>True</td>\n      <td>True</td>\n    </tr>\n  </tbody>\n</table>\n</div>"
     },
     "execution_count": 15,
     "metadata": {},
     "output_type": "execute_result"
    }
   ],
   "source": [
    "results_stretch_2 = await run_consistency_test(settings, TIERS.STRETCH_2, Path(\"reports/scc-student-report.md\"), 3)\n",
    "\n",
    "print(results_stretch_2)\n",
    "\n",
    "df_stretch_2 = pd.DataFrame(results_stretch_2)\n",
    "df_stretch_2"
   ],
   "metadata": {
    "collapsed": false,
    "ExecuteTime": {
     "end_time": "2025-10-05T05:53:51.365703500Z",
     "start_time": "2025-10-05T05:53:22.153761900Z"
    }
   },
   "id": "b8180a99b33d2f84",
   "execution_count": 15
  },
  {
   "cell_type": "code",
   "outputs": [],
   "source": [],
   "metadata": {
    "collapsed": false
   },
   "id": "5960a6ab5e8be0a5"
  }
 ],
 "metadata": {
  "kernelspec": {
   "display_name": "Python 3",
   "language": "python",
   "name": "python3"
  },
  "language_info": {
   "codemirror_mode": {
    "name": "ipython",
    "version": 2
   },
   "file_extension": ".py",
   "mimetype": "text/x-python",
   "name": "python",
   "nbconvert_exporter": "python",
   "pygments_lexer": "ipython2",
   "version": "2.7.6"
  }
 },
 "nbformat": 4,
 "nbformat_minor": 5
}
